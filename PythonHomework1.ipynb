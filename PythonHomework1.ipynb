{
 "cells": [
  {
   "cell_type": "code",
   "execution_count": null,
   "metadata": {},
   "outputs": [],
   "source": [
    "n1 = input()\n",
    "n2 = input()\n",
    "n3 = input()\n",
    "n4 = input()\n",
    "n5 = input()\n",
    "\n",
    "mylist = [n1, n2, n3, n4, n5]\n",
    "print(mylist)\n",
    "\n",
    "print(f\"{n1}: {type(n1)}, {n2}: {type(n2)}, {n3}: {type(n3)}, {n4}: {type(n4)}, {n5}: {type(n5)}\") "
   ]
  }
 ],
 "metadata": {
  "kernelspec": {
   "display_name": "Python 3",
   "language": "python",
   "name": "python3"
  },
  "language_info": {
   "codemirror_mode": {
    "name": "ipython",
    "version": 3
   },
   "file_extension": ".py",
   "mimetype": "text/x-python",
   "name": "python",
   "nbconvert_exporter": "python",
   "pygments_lexer": "ipython3",
   "version": "3.8.5"
  }
 },
 "nbformat": 4,
 "nbformat_minor": 4
}
