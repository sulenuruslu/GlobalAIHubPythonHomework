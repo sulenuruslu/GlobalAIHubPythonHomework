{
 "cells": [
  {
   "cell_type": "code",
   "execution_count": null,
   "metadata": {},
   "outputs": [],
   "source": [
    "a = input(\"First Name: \")\n",
    "b = input(\"Last Name: \")\n",
    "c = int(input(\"Age:\"))\n",
    "d = int(input(\"Date of birth (just year): \"))\n",
    "\n",
    "x = [a,b,c,d]\n",
    "for i in x:\n",
    "    print(i)\n",
    "if c < 0:\n",
    "    print(\"Invalid Value!\")\n",
    "else:\n",
    "    if 0 < c < 18:\n",
    "        print(\"You can't go out because it's too dangerous.\")\n",
    "    else:\n",
    "        print(\"You can go out to the street.\")"
   ]
  }
 ],
 "metadata": {
  "kernelspec": {
   "display_name": "Python 3",
   "language": "python",
   "name": "python3"
  },
  "language_info": {
   "codemirror_mode": {
    "name": "ipython",
    "version": 3
   },
   "file_extension": ".py",
   "mimetype": "text/x-python",
   "name": "python",
   "nbconvert_exporter": "python",
   "pygments_lexer": "ipython3",
   "version": "3.8.5"
  }
 },
 "nbformat": 4,
 "nbformat_minor": 4
}
