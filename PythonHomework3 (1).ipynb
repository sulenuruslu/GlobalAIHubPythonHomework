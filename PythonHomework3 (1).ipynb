{
 "cells": [
  {
   "cell_type": "code",
   "execution_count": null,
   "metadata": {},
   "outputs": [],
   "source": [
    "import random\n",
    "wordslist = [\"oasis\",\"pixies\", \"coldplay\", \"radiohead\", \"queen\", \"nirvana\",\"placebo\", \"baccara\", \"metallica\", \"balthazar\", \n",
    "         \"gorillaz\", \"aerosmith\", \"scorpions\", \"anathema\", \"extreme\", \"rainbow\",\"bastille\" ]\n",
    "word = random.choice(wordslist)\n",
    "attempts = (len(word) - 2)\n",
    "display = []\n",
    "playgame = True\n",
    "x = len(word)\n",
    "z = list('_' * x)\n",
    "playagain = \"Y\"\n",
    "\n",
    "name = input(\"Please enter your name: \")\n",
    "print(\"LET'S PLAY HANGMAN\", name.upper(),\"!\")\n",
    "print(' '.join(z), end='\\n')\n",
    "print(\"\\n\")\n",
    "\n",
    "while True:\n",
    "    y = input(\"Please guess a letter: \")\n",
    "    if y in display:\n",
    "        print(\"You guessed this letter before. Try different letter!\")\n",
    "        print(\"\\n\")\n",
    "    elif y not in word:\n",
    "        attempts -= 1\n",
    "        print(\"Oops... You have\", attempts, \"guess left.\")\n",
    "        print(\"\\n\")\n",
    "    else:\n",
    "        for i in range(len(word)):\n",
    "            if y == word[i]:\n",
    "                z[i] = y.upper()\n",
    "                display.append(y)\n",
    "        print(\"Nice guessed!\")\n",
    "        print(\"\\n\")\n",
    "        print(' '.join(z), end='\\n')\n",
    "        print(\"\\n\")\n",
    "    joinedList = ''.join(z)\n",
    "    if joinedList.upper() == word.upper():\n",
    "        print(\"CONGRATS! YOU WON!\")\n",
    "        print(\"\\n\")\n",
    "        break\n",
    "    elif attempts == 0:\n",
    "        print(\"Sorry, too many guesses! Better luck next time.\")\n",
    "        print(\"\\n\")\n",
    "        print(\"The secret word was: \", word.upper())\n",
    "        break\n",
    "        \n",
    "endgame = input(\"If you want to end the game press Q key to quit: \")\n",
    "if endgame.upper() == \"Q\":\n",
    "    print(\"Thank you for playing. See you next time!\")"
   ]
  },
  {
   "cell_type": "code",
   "execution_count": null,
   "metadata": {},
   "outputs": [],
   "source": []
  }
 ],
 "metadata": {
  "kernelspec": {
   "display_name": "Python 3",
   "language": "python",
   "name": "python3"
  },
  "language_info": {
   "codemirror_mode": {
    "name": "ipython",
    "version": 3
   },
   "file_extension": ".py",
   "mimetype": "text/x-python",
   "name": "python",
   "nbconvert_exporter": "python",
   "pygments_lexer": "ipython3",
   "version": "3.8.5"
  }
 },
 "nbformat": 4,
 "nbformat_minor": 4
}
